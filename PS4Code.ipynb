{
 "cells": [
  {
   "cell_type": "code",
   "execution_count": 32,
   "metadata": {},
   "outputs": [
    {
     "name": "stdout",
     "output_type": "stream",
     "text": [
      "2020-06-19 19:48:46,478 INFO sqlalchemy.engine.base.Engine SELECT CAST('test plain returns' AS VARCHAR(60)) AS anon_1\n",
      "2020-06-19 19:48:46,479 INFO sqlalchemy.engine.base.Engine ()\n",
      "2020-06-19 19:48:46,480 INFO sqlalchemy.engine.base.Engine SELECT CAST('test unicode returns' AS VARCHAR(60)) AS anon_1\n",
      "2020-06-19 19:48:46,480 INFO sqlalchemy.engine.base.Engine ()\n",
      "2020-06-19 19:48:46,481 INFO sqlalchemy.engine.base.Engine PRAGMA main.table_info(\"Districts\")\n",
      "2020-06-19 19:48:46,482 INFO sqlalchemy.engine.base.Engine ()\n",
      "2020-06-19 19:48:46,489 INFO sqlalchemy.engine.base.Engine PRAGMA temp.table_info(\"Districts\")\n",
      "2020-06-19 19:48:46,489 INFO sqlalchemy.engine.base.Engine ()\n",
      "2020-06-19 19:48:46,490 INFO sqlalchemy.engine.base.Engine PRAGMA main.table_info(\"GradRates\")\n",
      "2020-06-19 19:48:46,491 INFO sqlalchemy.engine.base.Engine ()\n",
      "2020-06-19 19:48:46,492 INFO sqlalchemy.engine.base.Engine PRAGMA temp.table_info(\"GradRates\")\n",
      "2020-06-19 19:48:46,492 INFO sqlalchemy.engine.base.Engine ()\n",
      "2020-06-19 19:48:46,493 INFO sqlalchemy.engine.base.Engine PRAGMA main.table_info(\"Teachers\")\n",
      "2020-06-19 19:48:46,494 INFO sqlalchemy.engine.base.Engine ()\n",
      "2020-06-19 19:48:46,494 INFO sqlalchemy.engine.base.Engine PRAGMA temp.table_info(\"Teachers\")\n",
      "2020-06-19 19:48:46,495 INFO sqlalchemy.engine.base.Engine ()\n",
      "2020-06-19 19:48:46,496 INFO sqlalchemy.engine.base.Engine \n",
      "CREATE TABLE \"Districts\" (\n",
      "\t\"DisNum\" INTEGER NOT NULL, \n",
      "\t\"DisName\" VARCHAR, \n",
      "\t\"TotGradRate\" VARCHAR, \n",
      "\tPRIMARY KEY (\"DisNum\")\n",
      ")\n",
      "\n",
      "\n",
      "2020-06-19 19:48:46,497 INFO sqlalchemy.engine.base.Engine ()\n",
      "2020-06-19 19:48:47,215 INFO sqlalchemy.engine.base.Engine COMMIT\n",
      "2020-06-19 19:48:47,216 INFO sqlalchemy.engine.base.Engine \n",
      "CREATE TABLE \"GradRates\" (\n",
      "\t\"DisNum\" INTEGER, \n",
      "\t\"Lunch\" INTEGER, \n",
      "\t\"ELL\" INTEGER, \n",
      "\t\"Migrant\" INTEGER, \n",
      "\t\"AtRisk\" INTEGER, \n",
      "\t\"Total\" INTEGER, \n",
      "\tFOREIGN KEY(\"DisNum\") REFERENCES \"Districts\" (\"DisNum\"), \n",
      "\tFOREIGN KEY(\"Total\") REFERENCES \"Districts\" (\"TotGradRate\")\n",
      ")\n",
      "\n",
      "\n",
      "2020-06-19 19:48:47,217 INFO sqlalchemy.engine.base.Engine ()\n",
      "2020-06-19 19:48:48,399 INFO sqlalchemy.engine.base.Engine COMMIT\n",
      "2020-06-19 19:48:48,400 INFO sqlalchemy.engine.base.Engine \n",
      "CREATE TABLE \"Teachers\" (\n",
      "\t\"DisNum\" INTEGER, \n",
      "\t\"AvgSalary\" VARCHAR, \n",
      "\t\"NumEmployed\" INTEGER, \n",
      "\tFOREIGN KEY(\"DisNum\") REFERENCES \"Districts\" (\"DisNum\")\n",
      ")\n",
      "\n",
      "\n",
      "2020-06-19 19:48:48,401 INFO sqlalchemy.engine.base.Engine ()\n",
      "2020-06-19 19:48:49,073 INFO sqlalchemy.engine.base.Engine COMMIT\n"
     ]
    }
   ],
   "source": [
    "#!/usr/bin/env python\n",
    "\n",
    "##code to create the database##\n",
    "\n",
    "from sqlalchemy import create_engine\n",
    "\n",
    "engine = create_engine('sqlite:///FloridaEduData.sqlit', echo=True)\n",
    "\n",
    "\n",
    "from sqlalchemy import Table, Column, Integer, String, MetaData, ForeignKey\n",
    "\n",
    "metadata = MetaData()\n",
    "\n",
    "Districts = Table('Districts', metadata,\n",
    "     Column('DisNum', Integer, primary_key=True),\n",
    "     Column('DisName', String),\n",
    "     Column('TotGradRate', String),\n",
    "     )\n",
    "\n",
    "GradRates = Table('GradRates', metadata,\n",
    "    Column('DisNum', Integer, ForeignKey('Districts.DisNum')),\n",
    "    Column('Lunch', Integer),\n",
    "    Column('ELL', Integer),\n",
    "    Column('Migrant', Integer),\n",
    "    Column('AtRisk', Integer),\n",
    "    Column('Total', Integer, ForeignKey('Districts.TotGradRate')),\n",
    "    )\n",
    "\n",
    "Teachers = Table('Teachers', metadata,\n",
    "    Column('DisNum', Integer, ForeignKey('Districts.DisNum')),\n",
    "    Column('AvgSalary', String),\n",
    "    Column('NumEmployed', Integer),\n",
    "    )\n",
    "\n",
    "metadata.create_all(engine)"
   ]
  },
  {
   "cell_type": "code",
   "execution_count": 33,
   "metadata": {},
   "outputs": [],
   "source": [
    "#!/usr/bin/env python\n",
    "from sqlalchemy import create_engine\n",
    "from sqlalchemy import MetaData\n",
    "from sqlalchemy import Table, Column\n",
    "from sqlalchemy import Integer, String\n",
    "from sqlalchemy import sql, select, join, desc\n",
    "\n",
    "# Create a Engine object which is our handle into the database.\n",
    "engine = create_engine('sqlite:///FloridaEduData.sqlit')\n",
    "\n",
    "# Connect to the database\n",
    "conn = engine.connect()\n",
    "\n",
    "# Read the metadata from the existing database.\n",
    "#  Since the database already exists and has tables defined, we can create Python objects based on these automatically.\n",
    "DBInfo=MetaData(engine)\n",
    "\n",
    "# Auto-create the city object basedon the metadata read into the DBInfo.\n",
    "Districts=Table('Districts', DBInfo, autoload=True)\n",
    "\n",
    "# Mirroring this command: SELECT Id, Name, Population FROM city LIMIT 10;\n",
    "query = select([Districts.c.DisNum, Districts.c.DisName, Districts.c.TotGradRate]).limit(100)\n",
    "result = conn.execute(query)\n",
    "for row in result:\n",
    "    print(row)"
   ]
  },
  {
   "cell_type": "code",
   "execution_count": null,
   "metadata": {},
   "outputs": [],
   "source": []
  },
  {
   "cell_type": "code",
   "execution_count": 34,
   "metadata": {},
   "outputs": [
    {
     "name": "stdout",
     "output_type": "stream",
     "text": [
      "(1, 'Alachua', '88.5')\n"
     ]
    }
   ],
   "source": [
    "##code to insert data into database##\n",
    "\n",
    "my_insert=Districts.insert().values(DisNum=1, DisName='Alachua',TotGradRate=88.5)\n",
    "result = conn.execute(my_insert)\n",
    "query = select([Districts.c.DisNum, Districts.c.DisName, Districts.c.TotGradRate]).limit(100)\n",
    "result = conn.execute(query)\n",
    "for row in result:\n",
    "    print(row)"
   ]
  },
  {
   "cell_type": "code",
   "execution_count": null,
   "metadata": {},
   "outputs": [],
   "source": []
  }
 ],
 "metadata": {
  "kernelspec": {
   "display_name": "Python 3.8 (full)",
   "language": "python",
   "name": "python3-3.8-ufrc"
  },
  "language_info": {
   "codemirror_mode": {
    "name": "ipython",
    "version": 3
   },
   "file_extension": ".py",
   "mimetype": "text/x-python",
   "name": "python",
   "nbconvert_exporter": "python",
   "pygments_lexer": "ipython3",
   "version": "3.8.1"
  }
 },
 "nbformat": 4,
 "nbformat_minor": 4
}
