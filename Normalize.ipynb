{
 "cells": [
  {
   "cell_type": "markdown",
   "metadata": {},
   "source": [
    "Normalize the Data"
   ]
  },
  {
   "cell_type": "markdown",
   "metadata": {},
   "source": [
    "The data will be in 3 tables: Districts, GradRates, Teachers "
   ]
  },
  {
   "cell_type": "markdown",
   "metadata": {},
   "source": [
    "Table 1: Districts \n",
    "\n",
    "Fields: \n",
    "DisNum(Integer) | DisName(String) | TotGradRate(Integer)\n"
   ]
  },
  {
   "cell_type": "markdown",
   "metadata": {},
   "source": [
    "Table 2: GraduationRates \n",
    "\n",
    "Fields:\n",
    "DisNum(Integer, foreign key) | Lunch(Integer) | ELL(Integer) | Migrant(Integer) | AtRisk(Integer) | Tot(Integer, foreign key)\n"
   ]
  },
  {
   "cell_type": "markdown",
   "metadata": {},
   "source": [
    "Table 3: Teachers \n",
    "\n",
    "Fields: \n",
    "DisNum(Integer, foreign key) | AvgSalary(String) | NumEmployed(Integer)\n"
   ]
  },
  {
   "cell_type": "markdown",
   "metadata": {},
   "source": [
    "\n",
    "Description: \n",
    "\n",
    "These tables were created to satisfy the 3 normal forms:\n",
    "\n",
    "First normal form: Table 2 is created to show different graduation rates by type of student so the columns do not repeat like in the original dataset \n",
    "    \n",
    "Second normal form: each row's data is dependent only on the primary key- district number \n",
    "\n",
    "Third normal form: we can't determine the value in a column from any field other than the key \n"
   ]
  }
 ],
 "metadata": {
  "kernelspec": {
   "display_name": "Python 3.8 (full)",
   "language": "python",
   "name": "python3-3.8-ufrc"
  },
  "language_info": {
   "codemirror_mode": {
    "name": "ipython",
    "version": 3
   },
   "file_extension": ".py",
   "mimetype": "text/x-python",
   "name": "python",
   "nbconvert_exporter": "python",
   "pygments_lexer": "ipython3",
   "version": "3.8.1"
  }
 },
 "nbformat": 4,
 "nbformat_minor": 4
}
