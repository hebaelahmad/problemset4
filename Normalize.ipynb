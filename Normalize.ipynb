{
 "cells": [
  {
   "cell_type": "markdown",
   "metadata": {},
   "source": [
    "Normalize the Data"
   ]
  },
  {
   "cell_type": "markdown",
   "metadata": {},
   "source": [
    "The data will be in 4 tables: Districts, Students, Teachers "
   ]
  },
  {
   "cell_type": "markdown",
   "metadata": {},
   "source": [
    "Table 1: Districts \n",
    "\n",
    "Fields: \n",
    "DisNum(Integer) | DisName(String) | TotGradRate(Integer)\n"
   ]
  },
  {
   "cell_type": "markdown",
   "metadata": {},
   "source": [
    "Table 2: Students \n",
    "\n",
    "Fields:\n",
    "DisNum(Integer) | Attendance(Integer) | LunchGradRate(Integer) | EllGradRate(Integer) | MigrantGradRate(Integer) | AtRiskGradRate(Integer) | TotGradRate(Integer)\n"
   ]
  },
  {
   "cell_type": "markdown",
   "metadata": {},
   "source": [
    "Table 3: Teachers \n",
    "\n",
    "Fields: \n",
    "DisNum(Integer) | AvgSalary(String) | NumEmployed(Integer)\n"
   ]
  }
 ],
 "metadata": {
  "kernelspec": {
   "display_name": "Python 3.8 (full)",
   "language": "python",
   "name": "python3-3.8-ufrc"
  },
  "language_info": {
   "codemirror_mode": {
    "name": "ipython",
    "version": 3
   },
   "file_extension": ".py",
   "mimetype": "text/x-python",
   "name": "python",
   "nbconvert_exporter": "python",
   "pygments_lexer": "ipython3",
   "version": "3.8.1"
  }
 },
 "nbformat": 4,
 "nbformat_minor": 4
}
